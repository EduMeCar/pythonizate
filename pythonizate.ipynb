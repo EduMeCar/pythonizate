{
 "cells": [
  {
   "cell_type": "markdown",
   "metadata": {},
   "source": [
    " # 🧠 El a, b, c de Python\n",
    "\n",
    "\n",
    "\n",
    " Aprende paso a paso, con ejemplos explicados, consejos útiles y retos realistas."
   ]
  },
  {
   "cell_type": "markdown",
   "metadata": {},
   "source": [
    "## 📄 Índice\n",
    "\n",
    "1. [Introducción y primeros pasos](#Introducción-y-primeros-pasos)  \n",
    "2. [Inputs & Outputs](#Inputs--outputs)  \n",
    "2.5 [Tipos de datos en Python](#Tipos-de-datos-en-python)  \n",
    "3. [Condicionales](#Condicionales) \n",
    "4. [Funciones](#Funciones)  \n",
    "5. [Listas y Diccionarios](#Listas-y-diccionarios)  \n",
    "6. [Bucles for](#Bucles-for)  \n",
    "7. [Bucles while](#Bucles-while)  \n",
    "8. [Pandas: Introducción](#Pandas-introducción)  \n",
    "9. [DataFrames en Pandas (en acción)](#Dataframes-en-pandas-en-acción)  \n"
   ]
  },
  {
   "cell_type": "markdown",
   "metadata": {},
   "source": [
    "-----------------------------------------------------------------------------------------------------------"
   ]
  },
  {
   "cell_type": "markdown",
   "metadata": {},
   "source": [
    "## Introducción y primeros pasos"
   ]
  },
  {
   "cell_type": "markdown",
   "metadata": {},
   "source": [
    " ### 📌 ¿Qué es Python?\n",
    "\n",
    " Python es un lenguaje muy popular porque es fácil de leer y entender. Sirve para muchas cosas, desde automatizar tareas hasta analizar datos.\n",
    "\n"
   ]
  },
  {
   "cell_type": "markdown",
   "metadata": {},
   "source": [
    " ### 🎯 ¿Para qué me puede servir?\n",
    "\n",
    " - Para resolver cosas del día a día\n",
    "\n",
    " - Para trabajar con datos\n",
    "\n",
    " - Para crear scripts o automatizar tareas\n",
    "\n",
    " - Para hacer cosas útiles sin escribir mil líneas de código\n",
    "\n"
   ]
  },
  {
   "cell_type": "markdown",
   "metadata": {},
   "source": [
    " ### 🧱 Estructura básica"
   ]
  },
  {
   "cell_type": "code",
   "execution_count": 3,
   "metadata": {},
   "outputs": [
    {
     "name": "stdout",
     "output_type": "stream",
     "text": [
      "Hola mundo\n"
     ]
    }
   ],
   "source": [
    "print(\"Hola mundo\")\n"
   ]
  },
  {
   "cell_type": "markdown",
   "metadata": {},
   "source": [
    " ### 🔍 ¿Qué pasa si quiero COMO USUARIO escribir algo?"
   ]
  },
  {
   "cell_type": "code",
   "execution_count": 4,
   "metadata": {},
   "outputs": [
    {
     "name": "stdout",
     "output_type": "stream",
     "text": [
      "Hola, edu\n"
     ]
    }
   ],
   "source": [
    "nombre = input(\"¿Cómo te llamas? \")\n",
    "print(\"Hola,\", nombre)\n"
   ]
  },
  {
   "cell_type": "markdown",
   "metadata": {},
   "source": [
    " ### ⚠️ No la cagues con esto\n",
    "\n",
    " No olvides usar paréntesis: \n"
   ]
  },
  {
   "cell_type": "code",
   "execution_count": 5,
   "metadata": {},
   "outputs": [
    {
     "name": "stdout",
     "output_type": "stream",
     "text": [
      "Hola\n"
     ]
    }
   ],
   "source": [
    "# print \"Hola\"      # ❌ Así no\n",
    "print(\"Hola\")     # ✅ Así sí"
   ]
  },
  {
   "cell_type": "markdown",
   "metadata": {},
   "source": [
    " Y define las variables antes de usarlas:"
   ]
  },
  {
   "cell_type": "code",
   "execution_count": 6,
   "metadata": {},
   "outputs": [
    {
     "name": "stdout",
     "output_type": "stream",
     "text": [
      "edu\n",
      "Eduardo\n"
     ]
    }
   ],
   "source": [
    "print(nombre)       # ❌ Si no lo definiste antes\n",
    "nombre = \"Eduardo\"\n",
    "\n",
    "print(nombre)       # ✅ Ahora sí\n"
   ]
  },
  {
   "cell_type": "markdown",
   "metadata": {},
   "source": [
    " ### 🧩 Reto\n",
    "\n",
    " ¿En qué ciudad vivo? Me lo voy a preguntar y luego mostrar una frase como:\n",
    "\n",
    "\n",
    "\n",
    " Hola, estoy en Barcelona y estoy aprendiendo Python."
   ]
  },
  {
   "cell_type": "markdown",
   "metadata": {},
   "source": [
    " ### ✅ Solución guiada"
   ]
  },
  {
   "cell_type": "code",
   "execution_count": 7,
   "metadata": {},
   "outputs": [
    {
     "name": "stdout",
     "output_type": "stream",
     "text": [
      "Hola, estoy en bcn y estoy aprendiendo Python.\n"
     ]
    }
   ],
   "source": [
    "ciudad = input(\"¿En qué ciudad vives? \")\n",
    "print(\"Hola, estoy en\", ciudad, \"y estoy aprendiendo Python.\")\n"
   ]
  },
  {
   "cell_type": "markdown",
   "metadata": {},
   "source": [
    " ### 🔁 Otro ejercicio.\n",
    "\n",
    " Ahora pregunto cuál es mi comida favorita y muestro una frase como:\n",
    "\n",
    "\n",
    "\n",
    " Ok, apuntado: me gusta la pizza."
   ]
  },
  {
   "cell_type": "code",
   "execution_count": 8,
   "metadata": {},
   "outputs": [
    {
     "name": "stdout",
     "output_type": "stream",
     "text": [
      "Ok, apuntado: me gusta la jjj.\n"
     ]
    }
   ],
   "source": [
    "comida = input(\"¿Cuál es tu comida favorita? \")\n",
    "print(\"Ok, apuntado: me gusta la\", comida + \".\")\n"
   ]
  },
  {
   "cell_type": "markdown",
   "metadata": {},
   "source": [
    "-----------------------------------------------------------------------------------------------------------"
   ]
  },
  {
   "cell_type": "markdown",
   "metadata": {},
   "source": [
    "## Inputs & Outputs"
   ]
  },
  {
   "cell_type": "markdown",
   "metadata": {},
   "source": [
    " ### 📌 ¿Qué son?\n",
    "\n",
    " - input(): me permite escribir algo.\n",
    "\n",
    " - print(): me muestra información.\n",
    "\n"
   ]
  },
  {
   "cell_type": "code",
   "execution_count": 9,
   "metadata": {},
   "outputs": [
    {
     "name": "stdout",
     "output_type": "stream",
     "text": [
      "A mí también me gusta el ssss\n"
     ]
    }
   ],
   "source": [
    "comida = input(\"¿Cuál es tu comida favorita? \")\n",
    "print(\"A mí también me gusta el\", comida)\n"
   ]
  },
  {
   "cell_type": "markdown",
   "metadata": {},
   "source": [
    " ### 🔍 ¿Qué pasa si quiero sumar dos números que yo escriba?"
   ]
  },
  {
   "cell_type": "code",
   "execution_count": 10,
   "metadata": {},
   "outputs": [
    {
     "name": "stdout",
     "output_type": "stream",
     "text": [
      "La suma es: 22\n"
     ]
    }
   ],
   "source": [
    "x = int(input(\"Dime un número: \"))\n",
    "y = int(input(\"Dime otro número: \"))\n",
    "print(\"La suma es:\", x + y)\n"
   ]
  },
  {
   "cell_type": "markdown",
   "metadata": {},
   "source": [
    " ### ⚠️ Cuidado con esto\n",
    "\n",
    " input() siempre devuelve texto. Si vas a sumar, conviértelo antes:\n",
    "\n"
   ]
  },
  {
   "cell_type": "code",
   "execution_count": 11,
   "metadata": {},
   "outputs": [
    {
     "name": "stdout",
     "output_type": "stream",
     "text": [
      "2233\n",
      "55\n"
     ]
    }
   ],
   "source": [
    "# Si escribes números con input(), recuerda que Python los toma como texto\n",
    "\n",
    "x = input(\"Dime un número: \")     # ejemplo: escribe 5\n",
    "y = input(\"Dime otro número: \")   # ejemplo: escribe 3\n",
    "print(x + y)                      # ❌ Esto concatena texto: 53\n",
    "\n",
    "# ✅ Solución: convierte a número con int()\n",
    "x =int(x)\n",
    "y =int(y)\n",
    "print(x + y)                      # ✅ Esto suma bien: 8\n"
   ]
  },
  {
   "cell_type": "markdown",
   "metadata": {},
   "source": [
    " ### 🧩 Reto\n",
    "\n",
    " Voy a calcular mi edad en 2025 preguntando en qué año nací."
   ]
  },
  {
   "cell_type": "markdown",
   "metadata": {},
   "source": [
    " ### ✅ Solución guiada"
   ]
  },
  {
   "cell_type": "code",
   "execution_count": 12,
   "metadata": {},
   "outputs": [
    {
     "name": "stdout",
     "output_type": "stream",
     "text": [
      "En 2025 tendrás 34 años.\n"
     ]
    }
   ],
   "source": [
    "anio_nacimiento = int(input(\"¿En qué año naciste? \"))\n",
    "edad = 2025 - anio_nacimiento\n",
    "print(\"En 2025 tendrás\", edad, \"años.\")\n"
   ]
  },
  {
   "cell_type": "markdown",
   "metadata": {},
   "source": [
    " ### 🔁 Otro reto parecido\n",
    "\n",
    " Voy a pedir mi año de nacimiento y calcular cuántos años tendré en 2030."
   ]
  },
  {
   "cell_type": "code",
   "execution_count": 13,
   "metadata": {},
   "outputs": [
    {
     "name": "stdout",
     "output_type": "stream",
     "text": [
      "En 2030 tendrás 39 años.\n"
     ]
    }
   ],
   "source": [
    "anio = int(input(\"¿Año de nacimiento? \"))\n",
    "edad_futura = 2030 - anio\n",
    "print(\"En 2030 tendrás\", edad_futura, \"años.\")\n"
   ]
  },
  {
   "cell_type": "markdown",
   "metadata": {},
   "source": [
    "-----------------------------------------------------------------------------------------------------------"
   ]
  },
  {
   "cell_type": "markdown",
   "metadata": {},
   "source": [
    "## Tipos de datos en Python"
   ]
  },
  {
   "cell_type": "markdown",
   "metadata": {},
   "source": [
    " ### 📌 ¿Qué son los tipos de datos?\n",
    "\n",
    "\n",
    "\n",
    " Son las distintas formas en las que Python puede entender y guardar información.\n",
    "\n",
    " Saber qué tipo de dato estás usando es fundamental para evitar errores y escribir buen código.\n",
    "\n"
   ]
  },
  {
   "cell_type": "markdown",
   "metadata": {},
   "source": [
    " ### 🎯 Tipos principales\n",
    "\n"
   ]
  },
  {
   "cell_type": "markdown",
   "metadata": {},
   "source": [
    "\n",
    "| Tipo | Qué representa | Ejemplo |\n",
    "|------|----------------|---------|\n",
    "| int | Número entero | 5, -3, 42 |\n",
    "| float | Número decimal | 3.14, -0.5 |\n",
    "| str | Texto o cadena | \"hola\", 'Eduardo' |\n",
    "| bool | Verdadero o falso | True, False |\n"
   ]
  },
  {
   "cell_type": "markdown",
   "metadata": {},
   "source": [
    " ### 🧱 ¿Cómo se ven en código?"
   ]
  },
  {
   "cell_type": "code",
   "execution_count": 14,
   "metadata": {},
   "outputs": [
    {
     "name": "stdout",
     "output_type": "stream",
     "text": [
      "<class 'int'>\n",
      "<class 'float'>\n",
      "<class 'str'>\n",
      "<class 'bool'>\n"
     ]
    }
   ],
   "source": [
    "numero = 7          # int\n",
    "precio = 3.50        # float\n",
    "nombre = \"Eduardo\"   # str\n",
    "activo = True        # bool\n",
    "\n",
    "print(type(numero))\n",
    "print(type(precio))\n",
    "print(type(nombre))\n",
    "print(type(activo))\n"
   ]
  },
  {
   "cell_type": "markdown",
   "metadata": {},
   "source": [
    " ### ⚠️ Errores comunes"
   ]
  },
  {
   "cell_type": "code",
   "execution_count": 15,
   "metadata": {},
   "outputs": [],
   "source": [
    "# edad = \"33\"\n",
    "# print(edad + 5)    # ❌ Error: estás mezclando texto y número"
   ]
  },
  {
   "cell_type": "markdown",
   "metadata": {},
   "source": [
    "✅ Solución:"
   ]
  },
  {
   "cell_type": "code",
   "execution_count": 16,
   "metadata": {},
   "outputs": [
    {
     "name": "stdout",
     "output_type": "stream",
     "text": [
      "38\n"
     ]
    }
   ],
   "source": [
    "edad = \"33\"\n",
    "print(int(edad) + 5)"
   ]
  },
  {
   "cell_type": "markdown",
   "metadata": {},
   "source": [
    " ### 🔍 ¿Cómo sé qué tipo tiene una variable?\n",
    "\n",
    " Usa la función type() para comprobarlo:"
   ]
  },
  {
   "cell_type": "code",
   "execution_count": 17,
   "metadata": {},
   "outputs": [
    {
     "name": "stdout",
     "output_type": "stream",
     "text": [
      "<class 'str'>\n"
     ]
    }
   ],
   "source": [
    "x = \"Hola\"\n",
    "print(type(x))  # <class 'str'>"
   ]
  },
  {
   "cell_type": "markdown",
   "metadata": {},
   "source": [
    " ### 🧩 Reto\n",
    "\n",
    "\n",
    "\n",
    " Guarda tu nombre, tu edad, tu altura y si estás aprendiendo Python.\n",
    "\n",
    " Luego imprime una frase como:\n",
    "\n",
    "\n",
    "\n",
    " \"Hola, me llamo Eduardo, tengo 33 años, mido 1.72 y ¿estoy aprendiendo Python? True\"\n",
    "\n",
    " Usa los tipos correctos para cada uno.\n",
    "\n"
   ]
  },
  {
   "cell_type": "code",
   "execution_count": 18,
   "metadata": {},
   "outputs": [],
   "source": [
    "# Aqui haz el ejercicio "
   ]
  },
  {
   "cell_type": "markdown",
   "metadata": {},
   "source": [
    " ### ⚙️ Como analista de datos, esto te sirve para:\n",
    "\n",
    "\n",
    "\n",
    " - Saber si puedes hacer sumas, comparaciones o filtrados\n",
    "\n",
    " - Evitar errores al trabajar con DataFrames (como sumar texto con números)\n",
    "\n",
    " - Convertir tipos antes de graficar, agrupar o exportar datos\n",
    "\n"
   ]
  },
  {
   "cell_type": "markdown",
   "metadata": {},
   "source": [
    "-----------------------------------------------------------------------------------------------------------"
   ]
  },
  {
   "cell_type": "markdown",
   "metadata": {},
   "source": [
    "## Condicionales \n",
    "\n",
    "`if`, `else`, `elif`\n",
    "\n",
    "### 📌 ¿Qué es una condicional?\n",
    "\n",
    "Si quiero que estas líneas que estoy escribiendo **no hagan siempre lo mismo**, necesito tomar decisiones.  \n",
    "Necesito que **reaccionen según lo que pasa**.\n",
    "\n",
    "Si ocurre algo → quiero hacer algo.  \n",
    "Si no ocurre → quiero otra cosa.  \n",
    "\n",
    "Así de simple.\n",
    "\n",
    "🧠 Ejemplo real:  \n",
    "“¿Tengo entrada para el evento?”  \n",
    "- Si sí → entro.  \n",
    "- Si no → no paso.\n"
   ]
  },
  {
   "cell_type": "code",
   "execution_count": null,
   "metadata": {},
   "outputs": [],
   "source": [
    "if tengo_entrada:\n",
    "    print(\"Puedo entrar al evento.\")\n",
    "else:\n",
    "    print(\"No puedo entrar.\")"
   ]
  },
  {
   "cell_type": "markdown",
   "metadata": {},
   "source": [
    "### 🧪 ¿Y si hay más de dos caminos?\n",
    "\n",
    "Hay veces que no son solo dos.  \n",
    "Por ejemplo: **¿qué edad tengo?**\n",
    "\n",
    "- ¿Es negativa? → eso no es posible  \n",
    "- ¿Es menor de edad?  \n",
    "- ¿Es adulto?  \n",
    "- ¿Es un caso extremo?\n",
    "\n",
    "Así lo pienso:\n"
   ]
  },
  {
   "cell_type": "code",
   "execution_count": null,
   "metadata": {},
   "outputs": [],
   "source": [
    "edad = int(input(\"¿Qué edad tengo? \"))\n",
    "\n",
    "if edad < 0:\n",
    "    print(\"Esto no tiene sentido.\")\n",
    "elif edad < 18:\n",
    "    print(\"Soy menor de edad.\")\n",
    "elif edad <= 125:\n",
    "    print(\"Soy mayor de edad.\")\n",
    "else:\n",
    "    print(\"¿Esto es real?\")"
   ]
  },
  {
   "cell_type": "markdown",
   "metadata": {},
   "source": [
    "### 🧠 Cómo pensar cualquier condicional: método universal\n",
    "\n",
    "Si no sé por dónde empezar, sigo estos pasos:\n",
    "\n",
    "---\n",
    "\n",
    "**1. ¿Qué me están planteando?**  \n",
    "Leo el ejercicio como si fuera una historia. ¿Qué datos tengo?\n",
    "\n",
    "**2. ¿Cuál es el criterio que divide los casos?**  \n",
    "¿Qué cambia la situación? ¿Un número, una palabra, una comparación?\n",
    "\n",
    "**3. ¿Qué posibles caminos existen?**  \n",
    "Hago una lista rápida: si pasa esto, si pasa lo otro, etc.\n",
    "\n",
    "**4. ¿Qué quiero que ocurra en cada uno?**  \n",
    "¿Qué debería decir, mostrar o calcular según el caso?\n",
    "\n",
    "---\n",
    "\n",
    "📌 Ejemplo:  \n",
    "“Pide un número. Muestra si es positivo, negativo o cero.”\n",
    "\n",
    "Lo pienso así:  \n",
    "- ¿Qué número me dan?  \n",
    "- ¿Es mayor que cero? → positivo  \n",
    "- ¿Es menor? → negativo  \n",
    "- ¿Es cero? → lo digo así\n",
    "\n",
    "Y lo escribo:"
   ]
  },
  {
   "cell_type": "code",
   "execution_count": null,
   "metadata": {},
   "outputs": [],
   "source": [
    "n = int(input(\"Escribe un número: \"))\n",
    "if n > 0:\n",
    "    print(\"Positivo\")\n",
    "elif n < 0:\n",
    "    print(\"Negativo\")\n",
    "else:\n",
    "    print(\"Cero\")"
   ]
  },
  {
   "cell_type": "markdown",
   "metadata": {},
   "source": [
    "### ⚠️ Errores que me pueden hacer fallar\n",
    "\n",
    "A veces no es que piense mal, solo que escribo mal.  \n",
    "Me recuerdo esto:"
   ]
  },
  {
   "cell_type": "markdown",
   "metadata": {},
   "source": [
    "**🚫 Usar `=` en lugar de `==`**\n",
    "\n",
    "```python\n",
    "if edad = 18:  # Esto rompe todo\n"
   ]
  },
  {
   "cell_type": "code",
   "execution_count": null,
   "metadata": {},
   "outputs": [],
   "source": [
    "if edad == 18:\n",
    "    print(\"Tengo 18\")"
   ]
  },
  {
   "cell_type": "markdown",
   "metadata": {},
   "source": [
    "**🚫 Olvidar los dos puntos `:`**\n",
    "\n",
    "```python\n",
    "if edad > 18\n",
    "    print(\"Mayor\")\n"
   ]
  },
  {
   "cell_type": "markdown",
   "metadata": {},
   "source": [
    "✅ Siempre van los `:`"
   ]
  },
  {
   "cell_type": "code",
   "execution_count": null,
   "metadata": {},
   "outputs": [],
   "source": [
    "if edad > 18:\n",
    "    print(\"Mayor\")"
   ]
  },
  {
   "cell_type": "markdown",
   "metadata": {},
   "source": [
    "**🚫 No usar sangría**"
   ]
  },
  {
   "cell_type": "code",
   "execution_count": null,
   "metadata": {},
   "outputs": [],
   "source": [
    "if activo:\n",
    "print(\"Está activo\")  # Así no"
   ]
  },
  {
   "cell_type": "markdown",
   "metadata": {},
   "source": [
    "✅ Siempre sangrado"
   ]
  },
  {
   "cell_type": "code",
   "execution_count": 69,
   "metadata": {},
   "outputs": [
    {
     "name": "stdout",
     "output_type": "stream",
     "text": [
      "Está activo\n"
     ]
    }
   ],
   "source": [
    "if activo:\n",
    "    print(\"Está activo\")"
   ]
  },
  {
   "cell_type": "markdown",
   "metadata": {},
   "source": [
    "🚫 Comparaciones innecesarias"
   ]
  },
  {
   "cell_type": "code",
   "execution_count": null,
   "metadata": {},
   "outputs": [],
   "source": [
    "if x == True:  # Muy largo"
   ]
  },
  {
   "cell_type": "markdown",
   "metadata": {},
   "source": [
    "✅ Mejor:"
   ]
  },
  {
   "cell_type": "code",
   "execution_count": 68,
   "metadata": {},
   "outputs": [
    {
     "name": "stdout",
     "output_type": "stream",
     "text": [
      "Es verdadero\n"
     ]
    }
   ],
   "source": [
    "if x:\n",
    "     print(\"Es verdadero\")"
   ]
  },
  {
   "cell_type": "markdown",
   "metadata": {},
   "source": [
    "#### Ejemplo 1: Clasificar un número\n",
    "\n",
    "**Consigna:**  \n",
    "Pide un número entero al usuario y muestra si es:  \n",
    "- Positivo  \n",
    "- Negativo  \n",
    "- Cero\n"
   ]
  },
  {
   "cell_type": "markdown",
   "metadata": {},
   "source": [
    "#### Cómo pienso la solución\n",
    "\n",
    "- Primero, pido el número al usuario (`input` y `int` para convertir).\n",
    "- Después, evalúo si es mayor que 0 → positivo.\n",
    "- Si no, veo si es menor que 0 → negativo.\n",
    "- Si ninguna de las dos, entonces es cero.\n",
    "- Uso `if`, `elif` y `else` para controlar las tres opciones.\n",
    "\n",
    "Así, mi código queda claro y cubre todos los casos posibles.\n"
   ]
  },
  {
   "cell_type": "code",
   "execution_count": 60,
   "metadata": {},
   "outputs": [
    {
     "name": "stdout",
     "output_type": "stream",
     "text": [
      "Es positivo\n"
     ]
    }
   ],
   "source": [
    "# Escribe aquí tu código para resolver la consigna:\n",
    "\n",
    "# Pista: usa input() y estructura if-elif-else\n",
    "\n",
    "numero = int(input(\"Escribe un número: \"))\n",
    "\n",
    "if numero > 0:\n",
    "    print(\"Es positivo\")\n",
    "elif numero < 0:\n",
    "    print(\"Es negativo\")\n",
    "else:\n",
    "    print(\"Es cero\")\n"
   ]
  },
  {
   "cell_type": "markdown",
   "metadata": {},
   "source": [
    "#### Ejemplo 2: Validar contraseña\n",
    "\n",
    "**Consigna:**  \n",
    "Pide una contraseña al usuario.  \n",
    "Si es exactamente `\"python123\"`, muestra `\"Acceso concedido\"`.  \n",
    "Si no, muestra `\"Acceso denegado\"`.\n"
   ]
  },
  {
   "cell_type": "markdown",
   "metadata": {},
   "source": [
    "#### Cómo pienso la solución\n",
    "\n",
    "- Pido la contraseña con `input()`.\n",
    "- Comparo la entrada con la contraseña correcta usando `==`.\n",
    "- Si coincide, muestro mensaje positivo.\n",
    "- Si no coincide, muestro mensaje negativo.\n",
    "- Uso `if` y `else` porque solo hay dos casos posibles.\n",
    "\n"
   ]
  },
  {
   "cell_type": "code",
   "execution_count": 62,
   "metadata": {},
   "outputs": [
    {
     "name": "stdout",
     "output_type": "stream",
     "text": [
      "Acceso concedido\n"
     ]
    }
   ],
   "source": [
    "# Escribe aquí tu código para resolver la consigna:\n",
    "\n",
    "clave = input(\"Introduce la contraseña: \")\n",
    "\n",
    "if clave == \"python123\":\n",
    "    print(\"Acceso concedido\")\n",
    "else:\n",
    "    print(\"Acceso denegado\")\n"
   ]
  },
  {
   "cell_type": "markdown",
   "metadata": {},
   "source": [
    "#### Reto: Clasificador de temperatura\n",
    "\n",
    "**Consigna:**  \n",
    "Pide al usuario la temperatura actual (puede tener decimales).  \n",
    "Clasifica y muestra un mensaje según:\n",
    "\n",
    "- Menos de 10 → \"Hace frío\"  \n",
    "- Entre 10 y 25 (incluidos) → \"Temperatura agradable\"  \n",
    "- Más de 25 → \"Hace calor\"  \n",
    "- Si la temperatura es menor que -20 o mayor que 50 → muestra además: \"⚠️ Temperatura extrema\"\n"
   ]
  },
  {
   "cell_type": "markdown",
   "metadata": {},
   "source": [
    "#### Cómo pensar la solución\n",
    "\n",
    "- Primero, convierto la entrada a un número decimal con `float()`.\n",
    "- Luego, evalúo si la temperatura está en el rango extremo (< -20 o > 50) para mostrar alerta.\n",
    "- Después, uso condicionales para decidir entre frío, agradable o calor.\n",
    "- Recuerda que los rangos deben cubrir todo el espectro sin solaparse.\n",
    "- Usa `if`, `elif` y `else` para organizar las condiciones.\n",
    "- Piensa en el orden correcto para que no se ignore ninguna condición.\n"
   ]
  },
  {
   "cell_type": "code",
   "execution_count": 65,
   "metadata": {},
   "outputs": [
    {
     "name": "stdout",
     "output_type": "stream",
     "text": [
      "Hace calor\n"
     ]
    }
   ],
   "source": [
    "#### Aqui realiza tu ejercicio\n",
    "\n",
    "temp = float(input(\"¿Cuál es la temperatura actual? \"))\n",
    "\n",
    "if temp < -20 or temp > 50:\n",
    "    print(\"⚠️ Temperatura extrema\")\n",
    "\n",
    "if temp < 10:\n",
    "    print(\"Hace frío\")\n",
    "elif temp <= 25:\n",
    "    print(\"Temperatura agradable\")\n",
    "else:\n",
    "    print(\"Hace calor\")\n"
   ]
  },
  {
   "cell_type": "markdown",
   "metadata": {},
   "source": [
    "🗣️ Me lo digo antes de escribir\n",
    " \n",
    "“Si pasa esto, entonces hago esto otro”  \n",
    "→ Eso es una condicional.\n",
    " \n",
    "Cuando pienso así, ya estoy programando.  \n",
    "Solo tengo que traducirlo con `if`, `elif`, `else`."
   ]
  },
  {
   "cell_type": "markdown",
   "metadata": {},
   "source": [
    "⚙️ Como analista de datos, ¿para qué me sirven las condicionales?\n",
    " \n",
    "Esto no es solo teoría.  \n",
    "Si estoy analizando datos, **decidir según condiciones es el pan de cada día**.\n",
    " \n",
    "Me digo esto:\n",
    " \n",
    "- ¿Quiero clasificar algo? → necesito `if`\n",
    "- ¿Quiero filtrar o detectar errores? → necesito `if`\n",
    "- ¿Quiero aplicar una regla del negocio en mis columnas? → también uso condicionales\n",
    " \n",
    "Ejemplos que me encuentro todo el tiempo:\n",
    " \n",
    "- Si las ventas son mayores a 1000, marco como “cliente VIP”\n",
    "- Si hay un número negativo en la columna de edad, lo marco como dato inválido\n",
    "- Si el tipo de contrato es “mensual”, aplico un cálculo; si es “anual”, otro\n",
    " \n",
    "Incluso cuando uso Pandas o NumPy, por debajo estoy tomando decisiones con lógica condicional.\n",
    " \n",
    "Saber escribir `if`, `elif`, `else` bien, me permite automatizar decisiones en mis datos.  \n",
    "Es una herramienta de pensamiento, no solo de sintaxis.\n",
    " "
   ]
  },
  {
   "cell_type": "markdown",
   "metadata": {},
   "source": [
    "-----------------------------------------------------------------------------------------------------------"
   ]
  },
  {
   "cell_type": "markdown",
   "metadata": {},
   "source": [
    "## Funciones"
   ]
  },
  {
   "cell_type": "markdown",
   "metadata": {},
   "source": [
    "\n",
    " ### 📌 ¿Qué es una función?\n",
    "\n",
    " Una función es como una mini-máquina dentro del programa: hace algo, le das un nombre, y la puedes usar las veces que quieras.\n",
    "\n",
    "  ### 🎯 ¿Para qué me sirve?\n",
    "\n",
    " - Para no repetir código\n",
    "\n",
    " - Para tener el programa más ordenado\n",
    "\n",
    " - Para entenderlo mejor después, incluso tú mismo\n",
    "\n",
    "  ### 🧱 Estructura básica"
   ]
  },
  {
   "cell_type": "code",
   "execution_count": 20,
   "metadata": {},
   "outputs": [
    {
     "name": "stdout",
     "output_type": "stream",
     "text": [
      "Hola\n"
     ]
    }
   ],
   "source": [
    "\n",
    "def saludar():\n",
    "    print(\"Hola\")\n",
    "\n",
    "saludar()\n"
   ]
  },
  {
   "cell_type": "markdown",
   "metadata": {},
   "source": [
    "### 🔍 ¿Qué pasa si quiero que me pregunte dos números y me dé la suma?"
   ]
  },
  {
   "cell_type": "code",
   "execution_count": 21,
   "metadata": {},
   "outputs": [
    {
     "name": "stdout",
     "output_type": "stream",
     "text": [
      "La suma es: 44\n"
     ]
    }
   ],
   "source": [
    "def sumar():\n",
    "   x = int(input(\"Número 1: \"))\n",
    "   y = int(input(\"Número 2: \"))\n",
    "   print(\"La suma es:\", x + y)\n",
    "   \n",
    "sumar()"
   ]
  },
  {
   "cell_type": "markdown",
   "metadata": {},
   "source": [
    "### ⚠️ Cosas que pueden fallar fácilmente"
   ]
  },
  {
   "cell_type": "code",
   "execution_count": 22,
   "metadata": {},
   "outputs": [],
   "source": [
    "#def saludar()\n",
    "#   print(\"Hola\")\n",
    "##  ❌ Me faltó el \":\" al final de la línea\n",
    "\n",
    "#def saludar():\n",
    "#print(\"Hola\")\n",
    "## ❌ Me faltó la sangría (espacio) antes del print\n",
    "\n",
    "def saludar():\n",
    "    print(\"Hola\")\n",
    "## ✅ Esto está bien"
   ]
  },
  {
   "cell_type": "markdown",
   "metadata": {},
   "source": [
    " ### 🧩 Reto\n",
    "\n",
    " Voy a crear una función que pregunte mi nombre y luego diga \"Hola, Eduardo\" (o el nombre que ponga).\n",
    "\n",
    " \n",
    " ### ✅ Solución guiada\n"
   ]
  },
  {
   "cell_type": "code",
   "execution_count": 23,
   "metadata": {},
   "outputs": [
    {
     "name": "stdout",
     "output_type": "stream",
     "text": [
      "Hola, edu\n"
     ]
    }
   ],
   "source": [
    "def preguntar_nombre():\n",
    "    nombre = input(\"¿Cómo te llamas? \")\n",
    "    print(\"Hola,\", nombre)\n",
    "preguntar_nombre()\n"
   ]
  },
  {
   "cell_type": "markdown",
   "metadata": {},
   "source": [
    "\n",
    " ### 🔁 Otro reto parecido\n",
    "\n",
    " Ahora hago una función que pida dos números y muestre la multiplicación."
   ]
  },
  {
   "cell_type": "code",
   "execution_count": 24,
   "metadata": {},
   "outputs": [
    {
     "name": "stdout",
     "output_type": "stream",
     "text": [
      "El resultado es: 22\n"
     ]
    }
   ],
   "source": [
    "def multiplicar():\n",
    "     a = int(input(\"Número 1: \"))\n",
    "     b = int(input(\"Número 2: \"))\n",
    "     print(\"El resultado es:\", a * b)\n",
    "\n",
    "multiplicar()"
   ]
  },
  {
   "cell_type": "markdown",
   "metadata": {},
   "source": [
    " ### ⚙️ Como analista de datos, esto te sirve para:\n",
    "\n",
    " - Agrupar tareas comunes como: cargar un archivo, limpiar columnas, mostrar gráficos.\n",
    "\n",
    " - Encapsular pasos del análisis para repetirlos en otros proyectos sin volver a escribir todo.\n",
    "\n",
    " - Hacer tu trabajo más organizado y automatizable.\n"
   ]
  },
  {
   "cell_type": "markdown",
   "metadata": {},
   "source": [
    "-----------------------------------------------------------------------------------------------------------"
   ]
  },
  {
   "cell_type": "markdown",
   "metadata": {},
   "source": [
    "## Listas y Diccionarios"
   ]
  },
  {
   "cell_type": "markdown",
   "metadata": {},
   "source": [
    "\n",
    " ### 📌 ¿Qué son?\n",
    "\n",
    " - Una **lista** guarda cosas en orden, como una caja con varias posiciones.\n",
    "\n",
    " - Un **diccionario** guarda cosas con nombre, como una libreta con etiquetas.\n",
    "\n",
    "\n",
    "\n",
    " ### 🎯 ¿Para qué me sirve?\n",
    "\n",
    " - Para guardar muchos datos en una sola variable\n",
    "\n",
    " - Para acceder a esos datos por orden (lista) o por nombre (diccionario)\n",
    "\n",
    " - Para recorrerlos con bucles después\n",
    "\n",
    "\n",
    "\n",
    " ### 🧱 ¿Cómo se leen las posiciones en una lista?\n",
    "  Python empieza a contar desde 0 (no desde 1). Mira este ejemplo:\n",
    "\n",
    "\n"
   ]
  },
  {
   "cell_type": "code",
   "execution_count": 25,
   "metadata": {},
   "outputs": [],
   "source": [
    "comidas = [\"pizza\", \"sushi\", \"tacos\"]\n",
    "# Índices:     0        1         2\n",
    "\n",
    "#comidas[0] es \"pizza\"\n",
    "#comidas[1] es \"sushi\"\n",
    "#comidas[2] es \"tacos\"\n"
   ]
  },
  {
   "cell_type": "markdown",
   "metadata": {},
   "source": [
    "También puedo usar índices negativos:"
   ]
  },
  {
   "cell_type": "code",
   "execution_count": 26,
   "metadata": {},
   "outputs": [],
   "source": [
    "#comidas[-1] es \"tacos\" (el último)\n",
    "#comidas[-2] es \"sushi\""
   ]
  },
  {
   "cell_type": "markdown",
   "metadata": {},
   "source": [
    "\n",
    " ### 🔍 Ejemplo real con lista"
   ]
  },
  {
   "cell_type": "code",
   "execution_count": 27,
   "metadata": {},
   "outputs": [
    {
     "name": "stdout",
     "output_type": "stream",
     "text": [
      "La que más me apetece hoy es: tacos\n"
     ]
    }
   ],
   "source": [
    "comidas = [\"pizza\", \"sushi\", \"tacos\"]\n",
    "print(\"La que más me apetece hoy es:\", comidas[-1])"
   ]
  },
  {
   "cell_type": "markdown",
   "metadata": {},
   "source": [
    " ### 🧱 ¿Cómo funcionan los diccionarios?\n",
    "\n",
    " Un diccionario guarda cosas con **claves** (entre comillas).\n",
    " \n",
    " Cada clave tiene un valor. Por ejemplo:\n",
    "\n",
    "\n"
   ]
  },
  {
   "cell_type": "code",
   "execution_count": 28,
   "metadata": {},
   "outputs": [],
   "source": [
    "perfil = {\n",
    "     \"nombre\": \"Eduardo\",\n",
    "     \"edad\": 33,\n",
    "     \"pais\": \"España\"\n",
    " }"
   ]
  },
  {
   "cell_type": "markdown",
   "metadata": {},
   "source": [
    " Para sacar un dato, uso la clave entre corchetes:"
   ]
  },
  {
   "cell_type": "code",
   "execution_count": 29,
   "metadata": {},
   "outputs": [
    {
     "name": "stdout",
     "output_type": "stream",
     "text": [
      "33\n"
     ]
    }
   ],
   "source": [
    "print(perfil[\"edad\"])  # Esto me da 33"
   ]
  },
  {
   "cell_type": "markdown",
   "metadata": {},
   "source": [
    "👉 \"edad\" es una clave, no una variable. Escríbela bien o dará error."
   ]
  },
  {
   "cell_type": "markdown",
   "metadata": {},
   "source": [
    " ### 🔍 Ejemplo real con diccionario"
   ]
  },
  {
   "cell_type": "code",
   "execution_count": 30,
   "metadata": {},
   "outputs": [
    {
     "name": "stdout",
     "output_type": "stream",
     "text": [
      "Vivo en Barcelona\n"
     ]
    }
   ],
   "source": [
    "persona = {\"nombre\": \"Eduardo\", \"edad\": 33, \"ciudad\": \"Barcelona\"}\n",
    "print(\"Vivo en\", persona[\"ciudad\"])"
   ]
  },
  {
   "cell_type": "markdown",
   "metadata": {},
   "source": [
    " ### ⚠️ Cosas que pueden fallar fácilmente"
   ]
  },
  {
   "cell_type": "code",
   "execution_count": 31,
   "metadata": {},
   "outputs": [],
   "source": [
    "#print(comidas[5])    # ❌ Ese índice no existe\n",
    "#print(persona[\"pais\"]) # ❌ Esa clave no existe en el diccionario"
   ]
  },
  {
   "cell_type": "markdown",
   "metadata": {},
   "source": [
    "\n",
    " ✅ Revisa bien qué hay dentro antes de acceder:"
   ]
  },
  {
   "cell_type": "code",
   "execution_count": 32,
   "metadata": {},
   "outputs": [
    {
     "name": "stdout",
     "output_type": "stream",
     "text": [
      "['pizza', 'sushi', 'tacos']\n",
      "dict_keys(['nombre', 'edad', 'ciudad'])\n"
     ]
    }
   ],
   "source": [
    "print(comidas)         # Ver todos los elementos\n",
    "print(persona.keys())  # Ver claves del diccionario"
   ]
  },
  {
   "cell_type": "markdown",
   "metadata": {},
   "source": [
    "### 🧩 Reto  \n",
    "\n",
    "Crea una lista con 3 bebidas favoritas y muestra la del medio.\n"
   ]
  },
  {
   "cell_type": "code",
   "execution_count": 33,
   "metadata": {},
   "outputs": [
    {
     "name": "stdout",
     "output_type": "stream",
     "text": [
      "Hoy quiero tomar: café\n"
     ]
    }
   ],
   "source": [
    "bebidas = [\"agua\", \"café\", \"té\"]\n",
    "print(\"Hoy quiero tomar:\", bebidas[1])\n"
   ]
  },
  {
   "cell_type": "markdown",
   "metadata": {},
   "source": [
    " ### 🔁 Otro reto parecido\n",
    "\n",
    " Ahora hago un diccionario con mi nombre, edad y país, y muestro solo la edad."
   ]
  },
  {
   "cell_type": "code",
   "execution_count": 34,
   "metadata": {},
   "outputs": [
    {
     "name": "stdout",
     "output_type": "stream",
     "text": [
      "Tengo 33 años.\n"
     ]
    }
   ],
   "source": [
    "perfil = {\"nombre\": \"Eduardo\", \"edad\": 33, \"pais\": \"Mexico\"}\n",
    "print(\"Tengo\", perfil[\"edad\"], \"años.\")"
   ]
  },
  {
   "cell_type": "markdown",
   "metadata": {},
   "source": [
    " ### ⚙️ Como analista de datos, esto te sirve para:\n",
    "\n",
    " - Guardar listas de nombres, precios o resultados\n",
    "\n",
    " - Guardar configuraciones como filtros = {\"año\": 2022, \"ciudad\": \"Madrid\"}\n",
    "\n",
    " - Hacer pruebas de código antes de pasar a trabajar con Pandas\n",
    "\n"
   ]
  },
  {
   "cell_type": "markdown",
   "metadata": {},
   "source": [
    "-----------------------------------------------------------------------------------------------------------"
   ]
  },
  {
   "cell_type": "markdown",
   "metadata": {},
   "source": [
    "## Bucles for"
   ]
  },
  {
   "cell_type": "markdown",
   "metadata": {},
   "source": [
    "\n",
    " ### 📌 ¿Qué es un bucle for?\n",
    "\n",
    " Es una forma de repetir algo varias veces, una por cada elemento de una lista o secuencia. Es como decir: “por cada cosa en esto, haz esto otro”.\n",
    "\n",
    " ### 🎯 ¿Para qué me sirve?\n",
    "\n",
    " - Para recorrer listas, como nombres, precios o tareas\n",
    "\n",
    " - Para repetir algo sin copiar y pegar\n",
    "\n",
    " - Para automatizar revisiones o cálculos\n",
    "\n",
    "\n",
    " ### 🔍 Ejemplo real\n"
   ]
  },
  {
   "cell_type": "code",
   "execution_count": 35,
   "metadata": {},
   "outputs": [
    {
     "name": "stdout",
     "output_type": "stream",
     "text": [
      "El color es: rojo\n",
      "El color es: verde\n",
      "El color es: azul\n"
     ]
    }
   ],
   "source": [
    "colores = [\"rojo\", \"verde\", \"azul\"]\n",
    "for color in colores:\n",
    "\n",
    "    print(\"El color es:\", color)"
   ]
  },
  {
   "cell_type": "markdown",
   "metadata": {},
   "source": [
    " ### 🔍 Ejemplo con números"
   ]
  },
  {
   "cell_type": "code",
   "execution_count": 36,
   "metadata": {},
   "outputs": [
    {
     "name": "stdout",
     "output_type": "stream",
     "text": [
      "El doble de 2 es 4\n",
      "El doble de 4 es 8\n",
      "El doble de 6 es 12\n"
     ]
    }
   ],
   "source": [
    "numeros = [2, 4, 6]\n",
    "\n",
    "for n in numeros:\n",
    "\n",
    "    print(\"El doble de\", n, \"es\", n * 2)"
   ]
  },
  {
   "cell_type": "markdown",
   "metadata": {},
   "source": [
    " ### ⚠️ Cosas que pueden fallar fácilmente"
   ]
  },
  {
   "cell_type": "code",
   "execution_count": 37,
   "metadata": {},
   "outputs": [],
   "source": [
    "#for color in colores   # ❌ Faltan los dos puntos\n",
    "#    print(color)\n",
    "\n",
    "\n",
    "#for color in colores: # ❌ Falta sangría\n",
    "#print(color)\n",
    "\n",
    "#for color in colores:  ✅ Esto está bien\n",
    "#   print(color)\n"
   ]
  },
  {
   "cell_type": "markdown",
   "metadata": {},
   "source": [
    "\n",
    " ### 🧩 Reto\n",
    "\n",
    " Voy a hacer una lista con mis 3 tareas del día y mostrar cada una en pantalla."
   ]
  },
  {
   "cell_type": "code",
   "execution_count": 38,
   "metadata": {},
   "outputs": [
    {
     "name": "stdout",
     "output_type": "stream",
     "text": [
      "Hoy tengo que: Revisar correos\n",
      "Hoy tengo que: Hacer compras\n",
      "Hoy tengo que: Leer Python\n"
     ]
    }
   ],
   "source": [
    "tareas = [\"Revisar correos\", \"Hacer compras\", \"Leer Python\"]\n",
    "for tarea in tareas:\n",
    "\n",
    "    print(\"Hoy tengo que:\", tarea)\n"
   ]
  },
  {
   "cell_type": "markdown",
   "metadata": {},
   "source": [
    "\n",
    " ### 🔁 Otro reto parecido\n",
    "\n",
    " Tengo una lista de precios y quiero mostrar cuánto costarían con un 10% extra (por ejemplo, impuestos o gastos)."
   ]
  },
  {
   "cell_type": "code",
   "execution_count": 39,
   "metadata": {},
   "outputs": [
    {
     "name": "stdout",
     "output_type": "stream",
     "text": [
      "Precio final: 11.0\n",
      "Precio final: 27.500000000000004\n",
      "Precio final: 55.00000000000001\n"
     ]
    }
   ],
   "source": [
    "precios = [10, 25, 50]\n",
    "\n",
    "for precio in precios:\n",
    "    total = precio * 1.10\n",
    "\n",
    "    print(\"Precio final:\", total)"
   ]
  },
  {
   "cell_type": "markdown",
   "metadata": {},
   "source": [
    "\n",
    "\n",
    " ### ⚙️ Como analista de datos, esto te sirve para:\n",
    "\n",
    "\n",
    "\n",
    " - Recorrer columnas o listas sin usar Pandas aún\n",
    "\n",
    " - Hacer cálculos por fila cuando no estás usando DataFrames\n",
    "\n",
    " - Automatizar pequeños scripts para analizar o transformar información\n",
    "\n"
   ]
  },
  {
   "cell_type": "markdown",
   "metadata": {},
   "source": [
    "-----------------------------------------------------------------------------------------------------------"
   ]
  },
  {
   "cell_type": "markdown",
   "metadata": {},
   "source": [
    "## Bucles while\n"
   ]
  },
  {
   "cell_type": "markdown",
   "metadata": {},
   "source": [
    " ### 📌 ¿Qué es un bucle while?\n",
    "\n",
    "\n",
    "\n",
    " Un bucle while sirve para **repetir algo mientras una condición sea verdadera**.\n",
    "\n",
    "\n",
    "\n",
    " Es como decir:\n",
    "\n",
    " > “Mientras esto siga siendo cierto, sigue haciendo esto otro.”\n",
    "\n"
   ]
  },
  {
   "cell_type": "markdown",
   "metadata": {},
   "source": [
    " ### 🎯 ¿Para qué me sirve?\n",
    "\n",
    "\n",
    "\n",
    " - Para repetir acciones hasta que pase algo\n",
    "\n",
    " - Para validar cosas (como contraseñas o respuestas)\n",
    "\n",
    " - Para contar, esperar, confirmar, repetir, insistir\n",
    "\n"
   ]
  },
  {
   "cell_type": "markdown",
   "metadata": {},
   "source": [
    " ### 🔍 Ejemplo real: tazas de café"
   ]
  },
  {
   "cell_type": "code",
   "execution_count": 40,
   "metadata": {},
   "outputs": [
    {
     "name": "stdout",
     "output_type": "stream",
     "text": [
      "Tomo una taza de café.\n",
      "Tomo una taza de café.\n",
      "Tomo una taza de café.\n"
     ]
    }
   ],
   "source": [
    "tazas = 3\n",
    "\n",
    "while tazas > 0:\n",
    "    print(\"Tomo una taza de café.\")\n",
    "    tazas = tazas - 1\n"
   ]
  },
  {
   "cell_type": "markdown",
   "metadata": {},
   "source": [
    " ### 🧱 ¿Qué está pasando aquí?\n",
    "\n",
    "\n",
    "\n",
    " 1. Empiezo con 3 tazas\n",
    "\n",
    " 2. Mientras me queden (tazas > 0), sigo tomando\n",
    "\n",
    " 3. Cada vez que tomo una, le resto 1\n",
    "\n",
    "\n",
    "\n",
    " Esto evita que el bucle sea infinito. Si no resto nada, se queda repitiendo para siempre.\n",
    "\n"
   ]
  },
  {
   "cell_type": "markdown",
   "metadata": {},
   "source": [
    " ### ⚠️ Errores que sí pasan (y por qué)"
   ]
  },
  {
   "cell_type": "code",
   "execution_count": 41,
   "metadata": {},
   "outputs": [
    {
     "name": "stdout",
     "output_type": "stream",
     "text": [
      "5\n",
      "4\n",
      "3\n",
      "2\n",
      "1\n"
     ]
    }
   ],
   "source": [
    "#while True:           ❌ Esto nunca se detiene (bucle infinito)\n",
    "#    print(\"Hola\")\n",
    "\n",
    "\n",
    "#numero = 5             ❌ Nunca cambia, no baja, se repite sin parar\n",
    "#while numero > 0:\n",
    "#    print(numero)\n",
    "\n",
    "\n",
    " #✅ Así sí:\n",
    "numero = 5\n",
    "while numero > 0:\n",
    "    print(numero)\n",
    "    numero = numero - 1"
   ]
  },
  {
   "cell_type": "markdown",
   "metadata": {},
   "source": [
    " ### 🔍 Otro ejemplo: esperando una señal"
   ]
  },
  {
   "cell_type": "code",
   "execution_count": 42,
   "metadata": {},
   "outputs": [
    {
     "name": "stdout",
     "output_type": "stream",
     "text": [
      "Cruzo la calle\n"
     ]
    }
   ],
   "source": [
    "luz = \"\"\n",
    "\n",
    "while luz != \"verde\":\n",
    "    luz = input(\"¿De qué color está el semáforo? \")\n",
    "\n",
    "print(\"Cruzo la calle\")\n"
   ]
  },
  {
   "cell_type": "markdown",
   "metadata": {},
   "source": [
    " En este caso:\n",
    "\n",
    "\n",
    "\n",
    " - La variable empieza vacía\n",
    "\n",
    " - El bucle se repite mientras la luz **no** sea verde\n",
    "\n",
    " - Cuando escribes \"verde\", termina y se imprime el mensaje\n",
    "\n",
    "\n",
    "\n",
    " Así es como esperarías en la vida real frente a un semáforo.\n",
    "\n"
   ]
  },
  {
   "cell_type": "markdown",
   "metadata": {},
   "source": [
    " ### 🧠 ¿Qué me aporta saber usar while?\n",
    "\n",
    "\n",
    "\n",
    " - Te ayuda a pensar en **condiciones** y en cómo cambian\n",
    "\n",
    " - Te entrena para diseñar programas que reaccionen según lo que pasa\n",
    "\n",
    " - Es como decirle al programa: “Insiste hasta que esté bien”\n",
    "\n"
   ]
  },
  {
   "cell_type": "markdown",
   "metadata": {},
   "source": [
    " ### 🧩 Reto real (te toca a ti)\n",
    "\n",
    "\n",
    "\n",
    " Haz un programa que pregunte:\n",
    "\n",
    " **\"¿Cuál es la contraseña?\"**\n",
    "\n",
    "\n",
    "\n",
    " Y siga preguntando **hasta que escribas python**.\n",
    "\n",
    "\n",
    "\n",
    " ---\n",
    "\n",
    "\n",
    "\n",
    " ### 🧪 Tutorial paso a paso\n",
    "\n",
    "\n",
    "\n",
    " 1. Crea una variable llamada respuesta con cualquier texto que **no sea \"python\"**\n",
    "\n",
    " 2. Haz un bucle while que se repita mientras respuesta **sea diferente** a \"python\"\n",
    "\n",
    " 3. Dentro del bucle, vuelve a pedir al usuario que escriba con input()\n",
    "\n",
    " 4. Cuando escribas \"python\", el bucle termina\n",
    "\n",
    " 5. Después del bucle, muestra el mensaje \"Acceso concedido\"\n",
    "\n"
   ]
  },
  {
   "cell_type": "code",
   "execution_count": 43,
   "metadata": {},
   "outputs": [],
   "source": [
    "# Aqui haz el ejercicio"
   ]
  },
  {
   "cell_type": "markdown",
   "metadata": {},
   "source": [
    " ### 🧠 Consejo final: ¿cómo encaro una consigna?\n",
    "\n",
    "\n",
    "\n",
    " Cuando te enfrento a un ejercicio, hago lo siguiente:\n",
    "\n",
    "\n",
    "\n",
    " 1. **Leo la consigna como si me la explicaran en la calle**. ¿Qué me están pidiendo? ¿Qué tiene que pasar?\n",
    "\n",
    " 2. **Detecto los pasos**: ¿Hay que pedir algo? ¿Hay que repetir? ¿Cuándo termina?\n",
    "\n",
    " 3. **Lo hago en mi cabeza primero** como si fuera un robot que sigue instrucciones.\n",
    "\n",
    " 4. **Anoto lo que se**: variables, condiciones, entradas y salidas.\n",
    "\n",
    " 5. Luego escribo el código con calma. No corro, no empujo, no grito. Nada de frenar \n",
    "\n",
    "\n",
    "\n",
    " Ejemplo con la contraseña:\n",
    "\n",
    "\n",
    "\n",
    " - ¿Qué me piden? → Que insista hasta que escriba “python”\n",
    "\n",
    " - ¿Qué necesito? → Un texto, un while, un input()\n",
    "\n",
    " - ¿Cuándo termina? → Cuando lo escribo bien\n",
    "\n",
    "\n",
    "\n",
    " Si sigues ese razonamiento, no hay consigna que no puedas romper en pasos simples.\n",
    "\n"
   ]
  },
  {
   "cell_type": "markdown",
   "metadata": {},
   "source": [
    " ### ⚙️ Como analista de datos, esto te sirve para:\n",
    "\n",
    "\n",
    "\n",
    " - Pedir inputs al usuario hasta que sean válidos\n",
    "\n",
    " - Validar rutas de archivos, opciones o filtros\n",
    "\n",
    " - Controlar la lógica de entrada en procesos iterativos o dependientes\n",
    "\n"
   ]
  },
  {
   "cell_type": "markdown",
   "metadata": {},
   "source": [
    "-----------------------------------------------------------------------------------------------------------"
   ]
  },
  {
   "cell_type": "markdown",
   "metadata": {},
   "source": [
    "## Pandas: Introducción"
   ]
  },
  {
   "cell_type": "markdown",
   "metadata": {},
   "source": [
    "\n",
    " ### 📌 ¿Qué es Pandas?\n",
    "\n",
    " Pandas es una librería de Python que te permite **trabajar con datos en forma de tabla**.\n",
    "\n",
    " Es como tener una hoja de Excel dentro de tu programa, pero con mucho más control y velocidad.\n",
    "\n",
    " Puedes usarlo para leer, analizar, modificar, filtrar o resumir información.\n",
    "\n",
    " Sí, suena técnico, pero en el fondo, estás jugando con filas y columnas.\n",
    "\n",
    " ### 🎯 ¿Para qué me sirve esto?\n",
    "\n",
    "\n",
    "\n",
    " - Para leer archivos CSV o Excel de la vida real\n",
    "\n",
    " - Para ver datos en columnas como precios, cantidades, fechas...\n",
    "\n",
    " - Para trabajar como lo harías con Excel, pero con superpoderes\n",
    "\n",
    "\n",
    "\n",
    " ### 🧠 ¿Por qué estoy aprendiendo esto?\n",
    "\n",
    "\n",
    "\n",
    " Porque si vas a analizar datos, no puedes hacerlo escribiendo todo a mano.\n",
    "\n",
    " Necesitas algo que lea, entienda y te deje transformar tablas como tú quieras.\n",
    "\n",
    "\n",
    "\n",
    " Y no, no necesitas ser científico. Solo necesitas entender qué tienes, qué quieres y cómo hacerlo paso a paso.\n",
    "\n",
    "\n",
    "\n",
    " ### 🔍 Ejemplo real: inventario de productos en casa"
   ]
  },
  {
   "cell_type": "markdown",
   "metadata": {},
   "source": [
    "\n",
    "✅ Antes de usar Pandas:\n",
    " \n",
    "Asegúrate de haberlo instalado. Abre una terminal y escribe:\n",
    "✅ Si usas Jupyter Notebook(un archivo ipynb en VSC o Anaconda), puedes escribir:\n",
    "```\n",
    "!pip install pandas\n",
    "```"
   ]
  },
  {
   "cell_type": "code",
   "execution_count": 44,
   "metadata": {},
   "outputs": [],
   "source": [
    "#!pip install pandas\n"
   ]
  },
  {
   "cell_type": "markdown",
   "metadata": {},
   "source": [
    "Así evitarás errores como `ModuleNotFoundError`.\n",
    "\n",
    "🧪 Probamos creando un DataFrame"
   ]
  },
  {
   "cell_type": "code",
   "execution_count": 45,
   "metadata": {},
   "outputs": [
    {
     "name": "stdout",
     "output_type": "stream",
     "text": [
      "  producto  precio  stock\n",
      "0      Pan     1.2     30\n",
      "1    Leche     0.9     20\n",
      "2   Huevos     2.5     10\n"
     ]
    }
   ],
   "source": [
    "import pandas as pd\n",
    "\n",
    "datos = pd.DataFrame({\n",
    "     \"producto\": [\"Pan\", \"Leche\", \"Huevos\"],\n",
    "     \"precio\": [1.2, 0.9, 2.5],\n",
    "     \"stock\": [30, 20, 10]\n",
    " })\n",
    "\n",
    "print(datos)"
   ]
  },
  {
   "cell_type": "markdown",
   "metadata": {},
   "source": [
    " ### ⚠️ Cosas que pueden fallar (y por qué)"
   ]
  },
  {
   "cell_type": "code",
   "execution_count": 46,
   "metadata": {},
   "outputs": [],
   "source": [
    "#pd.read_csv(\"archivo.csv\")\n",
    "\n",
    " # ❌ Esto falla si el archivo no está donde dijiste.\n",
    "\n",
    " # No es una “ruta mágica”. Es la dirección REAL en tu computadora.\n",
    "\n",
    " # Por ejemplo: \"C:/Users/Eduardo/Documentos/inventario.csv\"\n",
    "\n",
    "#datos[\"cantidad\"]\n",
    "\n",
    " # ❌ Esto falla si esa palabra no existe como nombre de columna en tu tabla.\n",
    "\n",
    " # En Pandas, las columnas son como etiquetas. Si escribes mal una, se rompe.\n"
   ]
  },
  {
   "cell_type": "markdown",
   "metadata": {},
   "source": [
    "✅ Así sí se hace:"
   ]
  },
  {
   "cell_type": "code",
   "execution_count": 47,
   "metadata": {},
   "outputs": [
    {
     "name": "stdout",
     "output_type": "stream",
     "text": [
      "0    1.2\n",
      "1    0.9\n",
      "2    2.5\n",
      "Name: precio, dtype: float64\n",
      "  producto  precio  stock\n",
      "0      Pan     1.2     10\n",
      "1    Leche     0.9     15\n",
      "2   Huevos     2.5      5\n",
      "Index(['producto', 'precio', 'stock'], dtype='object')\n"
     ]
    }
   ],
   "source": [
    "import pandas as pd\n",
    "\n",
    "datos = pd.DataFrame({\n",
    "\n",
    "     \"producto\": [\"Pan\", \"Leche\", \"Huevos\"],\n",
    "     \"precio\": [1.2, 0.9, 2.5],\n",
    "     \"stock\": [10, 15, 5]\n",
    " })\n",
    "\n",
    "print(datos[\"precio\"])         # accedo a una columna existente con corchetes\n",
    "print(datos.head())            # veo las primeras filas\n",
    "print(datos.columns)           # veo qué columnas tiene"
   ]
  },
  {
   "cell_type": "markdown",
   "metadata": {},
   "source": [
    "\n",
    " 👉 Fíjate en los detalles:\n",
    "\n",
    " - Las **columnas** se escriben entre **comillas y corchetes**\n",
    "\n",
    " - Las funciones llevan **paréntesis** (como head())\n",
    "\n",
    " - pd.DataFrame() lleva bien puestas las mayúsculas, los paréntesis y las llaves\n",
    "\n",
    "\n",
    "\n",
    " ### 🔗 ¿Qué relación tiene con lo que ya aprendiste?\n",
    "\n",
    "\n",
    "\n",
    " Esto se parece a las listas y diccionarios:\n",
    "\n",
    " - Cada fila es como un diccionario con varias claves (columnas)\n",
    "\n",
    " - Todo el conjunto es una gran lista de esos elementos\n",
    "\n",
    "\n",
    "\n",
    " Pero ahora, puedes ver todo ordenado, con poder para agrupar, filtrar, sumar y exportar.\n",
    "\n",
    "\n",
    "\n",
    " ### 💡 Consejo realista\n",
    "\n",
    "\n",
    "\n",
    " Antes de intentar hacer magia con Pandas, solo míralo.\n"
   ]
  },
  {
   "cell_type": "code",
   "execution_count": 48,
   "metadata": {},
   "outputs": [
    {
     "name": "stdout",
     "output_type": "stream",
     "text": [
      "  producto  precio  stock\n",
      "0      Pan     1.2     10\n",
      "1    Leche     0.9     15\n",
      "2   Huevos     2.5      5\n",
      "<class 'pandas.core.frame.DataFrame'>\n",
      "RangeIndex: 3 entries, 0 to 2\n",
      "Data columns (total 3 columns):\n",
      " #   Column    Non-Null Count  Dtype  \n",
      "---  ------    --------------  -----  \n",
      " 0   producto  3 non-null      object \n",
      " 1   precio    3 non-null      float64\n",
      " 2   stock     3 non-null      int64  \n",
      "dtypes: float64(1), int64(1), object(1)\n",
      "memory usage: 204.0+ bytes\n",
      "None\n"
     ]
    }
   ],
   "source": [
    "print(datos.head())\n",
    "\n",
    "print(datos.info())"
   ]
  },
  {
   "cell_type": "markdown",
   "metadata": {},
   "source": [
    "No intentes adivinar qué hay en tu DataFrame. **Verifícalo.**\n",
    "\n",
    " Aprender a mirar antes de tocar te evita errores y frustraciones.\n",
    "\n",
    "\n",
    "\n",
    " ### ✅ ¿Entendí o solo lo copié?\n",
    "\n",
    "\n",
    "\n",
    " ✔️ Si puedes crear tu propio DataFrame con tus productos, precios y stock, lo entendiste.\n",
    "\n",
    " ✔️ Si puedes ver las columnas y saber qué significan, lo entendiste.\n",
    "\n",
    " ✔️ Si puedes explicar qué representa cada fila, lo entendiste.\n"
   ]
  },
  {
   "cell_type": "markdown",
   "metadata": {},
   "source": [
    "### 🧩 Prueba 1: comida en casa\n",
    "\n",
    "📝 Crea un DataFrame con tus 3 comidas favoritas, su precio estimado y si están en casa o no.\n",
    "\n",
    "\n",
    "\n",
    " #### 🎓 Cómo pensarlo:\n",
    "\n",
    "\n",
    "\n",
    " 1. ¿Qué me están pidiendo?\n",
    "\n",
    "    - Que represente algo real como una tabla de datos\n",
    "\n",
    "\n",
    "\n",
    " 2. ¿Qué columnas necesito?\n",
    "\n",
    "    - nombre de la comida, precio, disponibilidad\n",
    "\n",
    "\n",
    "\n",
    " 3. ¿Cómo lo escribo?\n",
    "\n",
    "    - Como un diccionario con listas (una por cada columna)\n"
   ]
  },
  {
   "cell_type": "code",
   "execution_count": 49,
   "metadata": {},
   "outputs": [],
   "source": [
    "# Hazlo aqui"
   ]
  },
  {
   "cell_type": "markdown",
   "metadata": {},
   "source": [
    "\n",
    " ### 🧩 Prueba 2: tus libros favoritos\n",
    "\n",
    "\n",
    "\n",
    " 📚 Crea otro DataFrame con tus 3 libros favoritos, el autor y si lo has terminado.\n",
    "\n",
    "\n",
    "\n",
    " Esto refuerza lo anterior pero con otra temática. Si logras hacerlo sin mirar ejemplos, ya estás pensando como un analista."
   ]
  },
  {
   "cell_type": "code",
   "execution_count": 50,
   "metadata": {},
   "outputs": [],
   "source": [
    "# Hazlo aqui"
   ]
  },
  {
   "cell_type": "markdown",
   "metadata": {},
   "source": [
    " ### 🧠 Reto resuelto paso a paso\n",
    "\n",
    " 🧩 Reto: Crear un DataFrame con productos, precios y calcular el total por producto (precio × stock)\n",
    "\n",
    " #### 📋 Paso 1: ¿Qué tengo?\n",
    "\n",
    " - Una lista de productos\n",
    "\n",
    " - Precios por unidad\n",
    "\n",
    " - Cantidades en stock\n",
    "\n",
    " #### 🧱 Paso 2: Lo armo como tabla"
   ]
  },
  {
   "cell_type": "code",
   "execution_count": 51,
   "metadata": {},
   "outputs": [],
   "source": [
    "import pandas as pd\n",
    "datos = pd.DataFrame({\n",
    "\n",
    "    \"producto\": [\"Café\", \"Té\", \"Azúcar\"],\n",
    "    \"precio\": [3.5, 2.2, 1.5],\n",
    "    \"stock\": [10, 5, 8]\n",
    "\n",
    " })"
   ]
  },
  {
   "cell_type": "markdown",
   "metadata": {},
   "source": [
    "#### 🔁 Paso 3: Calculo una nueva columna"
   ]
  },
  {
   "cell_type": "code",
   "execution_count": 52,
   "metadata": {},
   "outputs": [
    {
     "name": "stdout",
     "output_type": "stream",
     "text": [
      "  producto  precio  stock  total\n",
      "0     Café     3.5     10   35.0\n",
      "1       Té     2.2      5   11.0\n",
      "2   Azúcar     1.5      8   12.0\n"
     ]
    }
   ],
   "source": [
    "datos[\"total\"] = datos[\"precio\"] * datos[\"stock\"]\n",
    "print(datos)"
   ]
  },
  {
   "cell_type": "markdown",
   "metadata": {},
   "source": [
    "\n",
    " ✔️ Con esto:\n",
    "\n",
    " - Aprendí a crear un DataFrame desde cero\n",
    "\n",
    " - Accedí a columnas con corchetes\n",
    "\n",
    " - Apliqué una operación columna por columna\n",
    "\n",
    " - Agregué una nueva columna a la tabla\n",
    "\n",
    "\n",
    "\n",
    " ### ⚙️ Como analista de datos, esto te sirve para:\n",
    "\n",
    "\n",
    "\n",
    " - Cargar archivos de ventas, registros, personas, lo que sea\n",
    "\n",
    " - Filtrar, agrupar y calcular cosas como \"ventas totales\", \"edades promedio\", \"stock bajo\"\n",
    "\n",
    " - Preparar tus datos para informes, gráficas o modelos\n",
    "\n"
   ]
  },
  {
   "cell_type": "markdown",
   "metadata": {},
   "source": [
    "-----------------------------------------------------------------------------------------------------------"
   ]
  },
  {
   "cell_type": "markdown",
   "metadata": {},
   "source": [
    "## DataFrames en Pandas (en acción)"
   ]
  },
  {
   "cell_type": "markdown",
   "metadata": {},
   "source": [
    " ### 📌 ¿Qué es un DataFrame?\n",
    "\n",
    "\n",
    "\n",
    " Un DataFrame es la tabla principal que se usa en Pandas.\n",
    "\n",
    " Tiene **filas** (como registros) y **columnas** (como atributos o campos).\n",
    "\n",
    "\n",
    "\n",
    " Es como una hoja de cálculo, pero que puedes manipular con código.\n",
    "\n",
    " Y no se rompe si copias y pegas mal.\n",
    "\n",
    "\n",
    "\n",
    " ### 🎯 ¿Para qué sirve?\n",
    "\n",
    "\n",
    "\n",
    " - Ver y entender datos rápidamente\n",
    "\n",
    " - Filtrar información: “quiero solo los productos caros”\n",
    "\n",
    " - Crear nuevas columnas con fórmulas\n",
    "\n",
    " - Calcular totales, promedios, agrupaciones...\n"
   ]
  },
  {
   "cell_type": "markdown",
   "metadata": {},
   "source": [
    "\n",
    " ### 🔍 Ejemplo 1: tabla de supermercado"
   ]
  },
  {
   "cell_type": "code",
   "execution_count": 53,
   "metadata": {},
   "outputs": [
    {
     "name": "stdout",
     "output_type": "stream",
     "text": [
      "  producto  precio  stock\n",
      "0     Café     3.5     10\n",
      "1       Té     2.2      5\n",
      "2   Azúcar     1.5      8\n"
     ]
    }
   ],
   "source": [
    "import pandas as pd\n",
    "\n",
    "datos = pd.DataFrame({\n",
    "    \"producto\": [\"Café\", \"Té\", \"Azúcar\"],\n",
    "    \"precio\": [3.5, 2.2, 1.5],\n",
    "    \"stock\": [10, 5, 8]\n",
    "})\n",
    "\n",
    "print(datos)\n"
   ]
  },
  {
   "cell_type": "markdown",
   "metadata": {},
   "source": [
    " \n",
    " ### 🧱 Seleccionar columnas"
   ]
  },
  {
   "cell_type": "code",
   "execution_count": 54,
   "metadata": {},
   "outputs": [
    {
     "name": "stdout",
     "output_type": "stream",
     "text": [
      "0    3.5\n",
      "1    2.2\n",
      "2    1.5\n",
      "Name: precio, dtype: float64\n",
      "  producto  stock\n",
      "0     Café     10\n",
      "1       Té      5\n",
      "2   Azúcar      8\n"
     ]
    }
   ],
   "source": [
    "\n",
    "print(datos[\"precio\"])  # Una columna\n",
    "print(datos[[\"producto\", \"stock\"]])  # Varias columnas"
   ]
  },
  {
   "cell_type": "markdown",
   "metadata": {},
   "source": [
    "### 🔍 Filtrar filas: solo productos caros"
   ]
  },
  {
   "cell_type": "code",
   "execution_count": 55,
   "metadata": {},
   "outputs": [
    {
     "name": "stdout",
     "output_type": "stream",
     "text": [
      "  producto  precio  stock\n",
      "0     Café     3.5     10\n",
      "1       Té     2.2      5\n"
     ]
    }
   ],
   "source": [
    "caros = datos[datos[\"precio\"] > 2]\n",
    "print(caros)"
   ]
  },
  {
   "cell_type": "markdown",
   "metadata": {},
   "source": [
    "### ➕ Crear una nueva columna: total"
   ]
  },
  {
   "cell_type": "code",
   "execution_count": 56,
   "metadata": {},
   "outputs": [
    {
     "name": "stdout",
     "output_type": "stream",
     "text": [
      "  producto  precio  stock  total\n",
      "0     Café     3.5     10   35.0\n",
      "1       Té     2.2      5   11.0\n",
      "2   Azúcar     1.5      8   12.0\n"
     ]
    }
   ],
   "source": [
    "datos[\"total\"] = datos[\"precio\"] * datos[\"stock\"]\n",
    "print(datos)"
   ]
  },
  {
   "cell_type": "markdown",
   "metadata": {},
   "source": [
    "### 📊 Estadísticas básicas"
   ]
  },
  {
   "cell_type": "code",
   "execution_count": 57,
   "metadata": {},
   "outputs": [
    {
     "name": "stdout",
     "output_type": "stream",
     "text": [
      "         precio      stock      total\n",
      "count  3.000000   3.000000   3.000000\n",
      "mean   2.400000   7.666667  19.333333\n",
      "std    1.014889   2.516611  13.576941\n",
      "min    1.500000   5.000000  11.000000\n",
      "25%    1.850000   6.500000  11.500000\n",
      "50%    2.200000   8.000000  12.000000\n",
      "75%    2.850000   9.000000  23.500000\n",
      "max    3.500000  10.000000  35.000000\n",
      "<class 'pandas.core.frame.DataFrame'>\n",
      "RangeIndex: 3 entries, 0 to 2\n",
      "Data columns (total 4 columns):\n",
      " #   Column    Non-Null Count  Dtype  \n",
      "---  ------    --------------  -----  \n",
      " 0   producto  3 non-null      object \n",
      " 1   precio    3 non-null      float64\n",
      " 2   stock     3 non-null      int64  \n",
      " 3   total     3 non-null      float64\n",
      "dtypes: float64(2), int64(1), object(1)\n",
      "memory usage: 228.0+ bytes\n",
      "None\n"
     ]
    }
   ],
   "source": [
    "print(datos.describe())\n",
    "print(datos.info())"
   ]
  },
  {
   "cell_type": "markdown",
   "metadata": {},
   "source": [
    " ### 🔍 Ejemplo 2: películas\n",
    " Imaginemos que anotas las películas que has visto, el género y cuántas veces la has visto."
   ]
  },
  {
   "cell_type": "code",
   "execution_count": 58,
   "metadata": {},
   "outputs": [
    {
     "name": "stdout",
     "output_type": "stream",
     "text": [
      "         título           género  veces_vista  favorita\n",
      "0        Matrix  Ciencia ficción            4      True\n",
      "1  Interstellar  Ciencia ficción            2     False\n",
      "2        Amélie        Romántica            3     False\n"
     ]
    }
   ],
   "source": [
    "pelis = pd.DataFrame({\n",
    "     \"título\": [\"Matrix\", \"Interstellar\", \"Amélie\"],\n",
    "     \"género\": [\"Ciencia ficción\", \"Ciencia ficción\", \"Romántica\"],\n",
    "     \"veces_vista\": [4, 2, 3]\n",
    " })\n",
    "\n",
    "\n",
    "\n",
    "pelis[\"favorita\"] = pelis[\"veces_vista\"] > 3\n",
    "print(pelis)"
   ]
  },
  {
   "cell_type": "markdown",
   "metadata": {},
   "source": [
    "### ⚠️ Errores comunes\n",
    "\n",
    "- Escribir mal el nombre de la columna (¡revisa `pelis.columns`!)\n",
    "- Mezclar mayúsculas y minúsculas\n",
    "- Tratar de usar funciones como si fueran listas\n",
    "- Usar `pelis.veces_vista` sin estar seguro de que no hay espacios o símbolos raros\n",
    "\n",
    "✅ Consejo: usa siempre `pelis[\"nombre_columna\"]` hasta que tengas experiencia.\n"
   ]
  },
  {
   "cell_type": "markdown",
   "metadata": {},
   "source": [
    "### 🧩 Reto: lista de amigos\n",
    "\n",
    "📝 Crea un DataFrame con nombre, edad, ciudad.  \n",
    "Luego:\n",
    "\n",
    "1. Muestra solo las edades  \n",
    "2. Filtra quienes tengan más de 30  \n",
    "3. Crea una nueva columna que diga si vive en Barcelona (sí/no)\n",
    "\n",
    "---\n",
    "\n",
    "### 🧠 ¿Cómo pensarlo?\n",
    "\n",
    "- ¿Qué quiero representar? → amigos\n",
    "- ¿Qué columnas necesito? → nombre, edad, ciudad\n",
    "- ¿Qué quiero ver? → edades\n",
    "- ¿Qué quiero filtrar? → edad > 30\n",
    "- ¿Qué columna nueva quiero? → si vive en Barcelona o no (comparación simple)\n",
    "\n",
    "👉 Este tipo de ejercicio es muy parecido a lo que harías con bases de datos reales.\n"
   ]
  },
  {
   "cell_type": "code",
   "execution_count": 59,
   "metadata": {},
   "outputs": [],
   "source": [
    "# Hazlo aqui"
   ]
  },
  {
   "cell_type": "markdown",
   "metadata": {},
   "source": [
    "\n",
    " ### ⚙️ Como analista de datos, esto te sirve para:\n",
    "\n",
    "\n",
    "\n",
    " - Ver patrones: ¿qué productos se venden más? ¿qué edades son más frecuentes?\n",
    "\n",
    " - Filtrar por criterios reales: fechas, regiones, cantidades\n",
    "\n",
    " - Calcular métricas que después puedes graficar, exportar o usar para tomar decisiones\n",
    "\n"
   ]
  }
 ],
 "metadata": {
  "kernelspec": {
   "display_name": "Python 3",
   "language": "python",
   "name": "python3"
  },
  "language_info": {
   "codemirror_mode": {
    "name": "ipython",
    "version": 3
   },
   "file_extension": ".py",
   "mimetype": "text/x-python",
   "name": "python",
   "nbconvert_exporter": "python",
   "pygments_lexer": "ipython3",
   "version": "3.11.9"
  }
 },
 "nbformat": 4,
 "nbformat_minor": 2
}
